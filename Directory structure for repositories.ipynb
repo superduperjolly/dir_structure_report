{
 "cells": [
  {
   "cell_type": "markdown",
   "metadata": {
    "slideshow": {
     "slide_type": "slide"
    }
   },
   "source": [
    "# Designing a directory structure for a repository"
   ]
  },
  {
   "cell_type": "markdown",
   "metadata": {
    "slideshow": {
     "slide_type": "slide"
    }
   },
   "source": [
    "### Why is this important?\n",
    "\n",
    "+ For turnovers, first thing they will see\n",
    "+ Repos should be easy to understand (where things are, etc.)"
   ]
  },
  {
   "cell_type": "markdown",
   "metadata": {
    "slideshow": {
     "slide_type": "slide"
    }
   },
   "source": [
    "We'll cover three types of code repository:\n",
    "\n",
    "+ Python\n",
    "+ Python + HTML\n",
    "+ R\n",
    "\n",
    "We're mostly doing microservices right now so we'll focus on that type of project."
   ]
  },
  {
   "cell_type": "markdown",
   "metadata": {
    "slideshow": {
     "slide_type": "slide"
    }
   },
   "source": [
    "# Python\n",
    "\n",
    "This is what I've found in \"The Hitchhiker's guide to Python\"\n",
    "\n",
    "source: https://docs.python-guide.org/writing/structure/"
   ]
  },
  {
   "cell_type": "markdown",
   "metadata": {
    "slideshow": {
     "slide_type": "fragment"
    }
   },
   "source": [
    "```\n",
    "README.rst\n",
    "LICENSE\n",
    "setup.py\n",
    "requirements.txt\n",
    "sample/__init__.py\n",
    "sample/core.py\n",
    "sample/helpers.py\n",
    "docs/conf.py\n",
    "docs/index.rst\n",
    "tests/test_basic.py\n",
    "tests/test_advanced.py\n",
    "```"
   ]
  },
  {
   "cell_type": "markdown",
   "metadata": {
    "slideshow": {
     "slide_type": "slide"
    }
   },
   "source": [
    "### The files:\n",
    "\n",
    "+ README - information about the package like running or testing it.\n",
    "+ LICENSE - for your copyright terms.\n",
    "+ setup.py - for package installation\n",
    "+ docs - documentation for the project\n",
    "+ tests - the test suite for the package\n",
    "+ sample/ - the package itself\n",
    "+ Makefile - store generic tasks about the project"
   ]
  },
  {
   "cell_type": "markdown",
   "metadata": {
    "slideshow": {
     "slide_type": "slide"
    }
   },
   "source": [
    "### For APIs\n",
    "\n",
    "source: https://medium.com/the-andela-way/how-i-developed-an-api-in-python-using-flask-4e388674f1"
   ]
  },
  {
   "cell_type": "markdown",
   "metadata": {
    "slideshow": {
     "slide_type": "fragment"
    }
   },
   "source": [
    "```\n",
    "api/\n",
    "   |- app\n",
    "      |- auth\n",
    "      |- bucket\n",
    "      |- bucketitems\n",
    "      |- __init__.py\n",
    "      |- config.py\n",
    "      |- models.py\n",
    "      |- views.py\n",
    "  |- .gitignore\n",
    "  |- manage.py\n",
    "  |- run.py\n",
    "  |- requirements.txt\n",
    "  |- README.md\n",
    "```"
   ]
  },
  {
   "cell_type": "markdown",
   "metadata": {
    "slideshow": {
     "slide_type": "slide"
    }
   },
   "source": [
    "# Python + HTML\n",
    "\n",
    "Since we're using Flask in most of our projects, this is what Flask recommends.\n",
    "\n",
    "source: http://flask.pocoo.org/docs/1.0/tutorial/layout/"
   ]
  },
  {
   "cell_type": "markdown",
   "metadata": {
    "slideshow": {
     "slide_type": "fragment"
    }
   },
   "source": [
    "```\n",
    "/home/user/Projects/flask-tutorial\n",
    "├── flaskr/\n",
    "│   ├── __init__.py\n",
    "│   ├── db.py\n",
    "│   ├── schema.sql\n",
    "│   ├── auth.py\n",
    "│   ├── blog.py\n",
    "│   ├── templates/\n",
    "│   │   ├── base.html\n",
    "│   │   ├── auth/\n",
    "│   │   │   ├── login.html\n",
    "│   │   │   └── register.html\n",
    "│   │   └── blog/\n",
    "│   │       ├── create.html\n",
    "│   │       ├── index.html\n",
    "│   │       └── update.html\n",
    "│   └── static/\n",
    "│       └── style.css\n",
    "├── tests/\n",
    "│   ├── conftest.py\n",
    "│   ├── data.sql\n",
    "│   ├── test_factory.py\n",
    "│   ├── test_db.py\n",
    "│   ├── test_auth.py\n",
    "│   └── test_blog.py\n",
    "├── venv/\n",
    "├── setup.py\n",
    "└── MANIFEST.in\n",
    "```"
   ]
  },
  {
   "cell_type": "markdown",
   "metadata": {
    "slideshow": {
     "slide_type": "slide"
    }
   },
   "source": [
    "### The files:\n",
    "\n",
    "+ flaskr - contains the code\n",
    "+ tempalates - the HTML code that Flask will render\n",
    "+ venv - the virtual env where the dependencies of the project will be stored"
   ]
  },
  {
   "cell_type": "markdown",
   "metadata": {
    "slideshow": {
     "slide_type": "slide"
    }
   },
   "source": [
    "That example project is severely outdated (published 2010). Another example is Hsiaoming Yang.\n",
    "\n",
    "source: https://lepture.com/en/2018/structure-of-a-flask-project"
   ]
  },
  {
   "cell_type": "markdown",
   "metadata": {
    "slideshow": {
     "slide_type": "fragment"
    }
   },
   "source": [
    "It differentiates project directory management into two categories:\n",
    "\n",
    "+ Functional Based\n",
    "+ App Based"
   ]
  },
  {
   "cell_type": "markdown",
   "metadata": {
    "slideshow": {
     "slide_type": "slide"
    }
   },
   "source": [
    "### Functional based\n",
    "\n",
    "\n",
    "```\n",
    "project/\n",
    "  __init__.py\n",
    "  models/\n",
    "    __init__.py\n",
    "    base.py\n",
    "    users.py\n",
    "    posts.py\n",
    "    ...\n",
    "  routes/\n",
    "    __init__.py\n",
    "    home.py\n",
    "    account.py\n",
    "    dashboard.py\n",
    "    ...\n",
    "  templates/\n",
    "    base.html\n",
    "    post.html\n",
    "    ...\n",
    "  services/\n",
    "    __init__.py\n",
    "    google.py\n",
    "    mail.py\n",
    "    ...\n",
    "```"
   ]
  },
  {
   "cell_type": "markdown",
   "metadata": {
    "slideshow": {
     "slide_type": "slide"
    }
   },
   "source": [
    "### App Based\n",
    "\n",
    "```\n",
    "project/\n",
    "  __init__.py\n",
    "  db.py\n",
    "  auth/\n",
    "    __init__.py\n",
    "    route.py\n",
    "    models.py\n",
    "    templates/\n",
    "  blog/\n",
    "    __init__.py\n",
    "    route.py\n",
    "    models.py\n",
    "    templates/\n",
    "...\n",
    "```"
   ]
  },
  {
   "cell_type": "markdown",
   "metadata": {
    "slideshow": {
     "slide_type": "slide"
    }
   },
   "source": [
    "### R\n",
    "\n",
    "source: http://r-pkgs.had.co.nz/package.html"
   ]
  },
  {
   "cell_type": "markdown",
   "metadata": {
    "slideshow": {
     "slide_type": "fragment"
    }
   },
   "source": [
    "```\n",
    "man/\n",
    "R/\n",
    "test/\n",
    "DESCRIPTION\n",
    "NAMESPACE\n",
    "```"
   ]
  },
  {
   "cell_type": "markdown",
   "metadata": {
    "slideshow": {
     "slide_type": "slide"
    }
   },
   "source": [
    "### The files:\n",
    "\n",
    "+ DESCRIPTION is where the package information goes (e.g. Title, Version, Author, Dependencies).\n",
    "+ NAMESPACE \n",
    "+ tests - where the tests for your package are found\n",
    "+ R - where your R scripts are stored\n",
    "+ man - will contain how-to’s on package use (generated by RoxyGen)"
   ]
  },
  {
   "cell_type": "markdown",
   "metadata": {
    "slideshow": {
     "slide_type": "slide"
    }
   },
   "source": [
    "## Some reminders:\n",
    "\n",
    "+ Planning too much or finalizing a directory structure for a repository will slow down your development cycle. Remember that iteration is good. Don't be afraid to move things around or refactor.\n",
    "+ This subject is very opinionated. But, empathy with your coworkers will force you to at least try to make things work for everyone."
   ]
  }
 ],
 "metadata": {
  "celltoolbar": "Slideshow",
  "kernelspec": {
   "display_name": "Python 3",
   "language": "python",
   "name": "python3"
  },
  "language_info": {
   "codemirror_mode": {
    "name": "ipython",
    "version": 3
   },
   "file_extension": ".py",
   "mimetype": "text/x-python",
   "name": "python",
   "nbconvert_exporter": "python",
   "pygments_lexer": "ipython3",
   "version": "3.6.3"
  }
 },
 "nbformat": 4,
 "nbformat_minor": 2
}
